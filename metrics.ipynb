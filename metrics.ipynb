{
 "cells": [
  {
   "cell_type": "code",
   "execution_count": 1,
   "metadata": {},
   "outputs": [],
   "source": [
    "import numpy as np\n",
    "\n",
    "\n",
    "def MSE(y_pred, y):\n",
    "    return np.average((y_pred - y)**2)\n",
    "\n",
    "\n",
    "def MAE(y_pred, y):\n",
    "    return np.average(np.abs(y_pred - y))\n",
    "\n",
    "\n",
    "def RMSE(y_pred, y):\n",
    "    return MSE(y_pred, y) ** 0.5\n",
    "\n",
    "\n",
    "def R2(y_pred, y):\n",
    "    return 1 - np.sum((y_pred - y) ** 2) / np.sum((y - np.average(y)) ** 2)\n",
    "\n",
    "\n",
    "def MAPE(y_pred, y):\n",
    "    return np.average(np.abs((y_pred - y) / y)) * 100\n",
    "\n",
    "\n",
    "metrics = {\n",
    "    'mse' : MSE,\n",
    "    'mae' : MAE,\n",
    "    'rmse' : RMSE,\n",
    "    'r2' : R2,\n",
    "    'mape' : MAPE\n",
    "  }\n",
    "\n",
    "\n",
    "def calcMetric(y_pred, y, metric):\n",
    "    if not metric in metrics:\n",
    "      raise ValueError(f\"Unknown metric: {metric}\")\n",
    "    return metrics[metric](y_pred, y)"
   ]
  }
 ],
 "metadata": {
  "kernelspec": {
   "display_name": "cuda_pytorch",
   "language": "python",
   "name": "python3"
  },
  "language_info": {
   "codemirror_mode": {
    "name": "ipython",
    "version": 3
   },
   "file_extension": ".py",
   "mimetype": "text/x-python",
   "name": "python",
   "nbconvert_exporter": "python",
   "pygments_lexer": "ipython3",
   "version": "3.9.19"
  }
 },
 "nbformat": 4,
 "nbformat_minor": 2
}
