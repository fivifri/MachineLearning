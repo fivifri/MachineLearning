{
 "cells": [
  {
   "cell_type": "code",
   "execution_count": null,
   "metadata": {},
   "outputs": [],
   "source": [
    "import numpy as np"
   ]
  },
  {
   "cell_type": "code",
   "execution_count": null,
   "metadata": {},
   "outputs": [],
   "source": [
    "def Lasso(w, l):\n",
    "    return l * np.sum(np.abs(w))\n",
    "\n",
    "\n",
    "def LassoGrad(w, l):\n",
    "    return l * np.sign(w)\n",
    "\n",
    "\n",
    "def Ridge(w, l):\n",
    "    return l * np.sum(w ** 2)\n",
    "\n",
    "\n",
    "def RidgeGrad(w, l):\n",
    "    return 2 * l * w\n",
    "\n",
    "\n",
    "def ElasticNet(w, l1, l2):\n",
    "    return Lasso(w, l1) + Ridge(w, l2)\n",
    "\n",
    "\n",
    "def ElasticNetGrad(w, l1, l2):\n",
    "    return LassoGrad(w, l1) + RidgeGrad(w, l2)"
   ]
  }
 ],
 "metadata": {
  "language_info": {
   "name": "python"
  }
 },
 "nbformat": 4,
 "nbformat_minor": 2
}
